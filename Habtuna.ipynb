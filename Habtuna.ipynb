{
 "cells": [
  {
   "cell_type": "code",
   "execution_count": 1,
   "id": "9a734757",
   "metadata": {},
   "outputs": [
    {
     "name": "stdout",
     "output_type": "stream",
     "text": [
      "we are here already. we are here already. we are here already. \n"
     ]
    }
   ],
   "source": [
    "#variables and strings\n",
    "dat = \"we are here already. \"\n",
    "p = 3\n",
    "bee = dat * p\n",
    "print(bee)"
   ]
  },
  {
   "cell_type": "code",
   "execution_count": 4,
   "id": "c388df50",
   "metadata": {},
   "outputs": [
    {
     "data": {
      "text/plain": [
       "[34, 64]"
      ]
     },
     "execution_count": 4,
     "metadata": {},
     "output_type": "execute_result"
    }
   ],
   "source": [
    "players = [34, 64, 74, 92, 16, 73]\n",
    "players[:2] #we need the first two"
   ]
  },
  {
   "cell_type": "code",
   "execution_count": 5,
   "id": "7ef32085",
   "metadata": {},
   "outputs": [
    {
     "data": {
      "text/plain": [
       "[74, 92, 16, 73]"
      ]
     },
     "execution_count": 5,
     "metadata": {},
     "output_type": "execute_result"
    }
   ],
   "source": [
    "players = [34, 64, 74, 92, 16, 73]\n",
    "players[2:] #we need the numbers after the first two"
   ]
  },
  {
   "cell_type": "code",
   "execution_count": 1,
   "id": "bd479353",
   "metadata": {},
   "outputs": [
    {
     "name": "stdout",
     "output_type": "stream",
     "text": [
      "Enjoy your drink\n"
     ]
    }
   ],
   "source": [
    "name = 19\n",
    "if name < 18:\n",
    "    print(\"Drink is not for you\")\n",
    "elif name == 18:\n",
    "    print(\"You have to have celebrated your 18th\")\n",
    "else:\n",
    "    print(\"Enjoy your drink\")"
   ]
  },
  {
   "cell_type": "code",
   "execution_count": 1,
   "id": "821443c7",
   "metadata": {},
   "outputs": [
    {
     "name": "stdout",
     "output_type": "stream",
     "text": [
      "beans\n",
      "5\n",
      "rice\n",
      "4\n",
      "eba\n",
      "3\n",
      "garri\n",
      "5\n",
      "fufu\n",
      "4\n"
     ]
    }
   ],
   "source": [
    "food = ['beans', 'rice', 'eba', 'garri', 'fufu']\n",
    "\n",
    "for f in food:\n",
    "    print(f)\n",
    "    print(len(f))"
   ]
  },
  {
   "cell_type": "code",
   "execution_count": 2,
   "id": "a2290f77",
   "metadata": {},
   "outputs": [
    {
     "name": "stdout",
     "output_type": "stream",
     "text": [
      "garri\n",
      "5\n",
      "fufu\n",
      "4\n"
     ]
    }
   ],
   "source": [
    "food = ['beans', 'rice', 'eba', 'garri', 'fufu']\n",
    "\n",
    "for f in food[3:]:\n",
    "    print(f)\n",
    "    print(len(f))"
   ]
  },
  {
   "cell_type": "code",
   "execution_count": 7,
   "id": "1c1d84c7",
   "metadata": {},
   "outputs": [
    {
     "name": "stdout",
     "output_type": "stream",
     "text": [
      "['beans', 'rice', 'eba', 'garri', 'fufu', 'moi-moi']\n"
     ]
    }
   ],
   "source": [
    "#appending/adding more items to a list\n",
    "food = ['beans', 'rice', 'eba', 'garri', 'fufu']\n",
    "\n",
    "food.append('moi-moi')\n",
    "print(food)"
   ]
  },
  {
   "cell_type": "code",
   "execution_count": 5,
   "id": "5582c9d8",
   "metadata": {},
   "outputs": [
    {
     "name": "stdout",
     "output_type": "stream",
     "text": [
      "['beans', 'rice', 'eba', 'garri', 'fufu']\n",
      "['moi-moi', 'bread', 'garri', 'fufu']\n",
      "['moi-moi', 'bread', 'garri', 'moi-moi', 'bread']\n"
     ]
    }
   ],
   "source": [
    "food = ['beans', 'rice', 'eba', 'garri', 'fufu']\n",
    "\n",
    "print(food)\n",
    "food[:3] = ['moi-moi', 'bread'] #This permanently delete the items and add new ones\n",
    "print(food)\n",
    "food[3:] = ['moi-moi', 'bread']\n",
    "print(food)"
   ]
  },
  {
   "cell_type": "code",
   "execution_count": 1,
   "id": "4b7e956d",
   "metadata": {},
   "outputs": [
    {
     "name": "stdout",
     "output_type": "stream",
     "text": [
      "0\n",
      "1\n",
      "2\n",
      "3\n",
      "4\n"
     ]
    }
   ],
   "source": [
    "#The use of range()\n",
    "for x in range(5):\n",
    "    print(x)"
   ]
  },
  {
   "cell_type": "code",
   "execution_count": null,
   "id": "1eaa1e8e",
   "metadata": {},
   "outputs": [],
   "source": [
    "#\n",
    "for x in range(5, 12):\n",
    "    print(x)"
   ]
  },
  {
   "cell_type": "code",
   "execution_count": null,
   "id": "0096989b",
   "metadata": {},
   "outputs": [],
   "source": [
    "#\n",
    "for x in range(3):\n",
    "    print(\"Who's home?\")"
   ]
  },
  {
   "cell_type": "code",
   "execution_count": 2,
   "id": "10e0aeba",
   "metadata": {},
   "outputs": [
    {
     "name": "stdout",
     "output_type": "stream",
     "text": [
      "10\n",
      "13\n",
      "16\n",
      "19\n"
     ]
    }
   ],
   "source": [
    "#The first value tell it where to start from  and the next where to stop while the last determine the interval\n",
    "for x in range(10, 20, 3):\n",
    "    print(x)"
   ]
  },
  {
   "cell_type": "code",
   "execution_count": 3,
   "id": "c91d8a31",
   "metadata": {},
   "outputs": [
    {
     "name": "stdout",
     "output_type": "stream",
     "text": [
      "5\n",
      "6\n",
      "7\n",
      "8\n",
      "9\n"
     ]
    }
   ],
   "source": [
    "num = 5\n",
    "\n",
    "while num < 10:\n",
    "    print(num)\n",
    "    num += 1"
   ]
  },
  {
   "cell_type": "code",
   "execution_count": 4,
   "id": "299280c2",
   "metadata": {},
   "outputs": [
    {
     "name": "stdout",
     "output_type": "stream",
     "text": [
      "26 This is the number\n"
     ]
    }
   ],
   "source": [
    "NumberRange = 26\n",
    "\n",
    "for n in range(101):\n",
    "    if n is NumberRange:\n",
    "        print(n, 'This is the number')\n",
    "        break"
   ]
  },
  {
   "cell_type": "code",
   "execution_count": 5,
   "id": "035bb1a2",
   "metadata": {},
   "outputs": [
    {
     "name": "stdout",
     "output_type": "stream",
     "text": [
      "4 This number is divisible by 4\n",
      "8 This number is divisible by 4\n",
      "12 This number is divisible by 4\n",
      "16 This number is divisible by 4\n",
      "20 This number is divisible by 4\n",
      "24 This number is divisible by 4\n",
      "28 This number is divisible by 4\n",
      "32 This number is divisible by 4\n",
      "36 This number is divisible by 4\n",
      "40 This number is divisible by 4\n"
     ]
    }
   ],
   "source": [
    "for n in range(1, 41):\n",
    "    if n % 4 == 0:\n",
    "        print(n, 'This number is divisible by 4')"
   ]
  },
  {
   "cell_type": "code",
   "execution_count": 7,
   "id": "644b056c",
   "metadata": {},
   "outputs": [
    {
     "name": "stdout",
     "output_type": "stream",
     "text": [
      "1\n",
      "3\n",
      "6\n",
      "9\n"
     ]
    }
   ],
   "source": [
    "NumbersTaken = [2, 5, 7, 4, 8]\n",
    "\n",
    "for n in range(1, 10):\n",
    "    if n in NumbersTaken:\n",
    "        continue\n",
    "    print(n)"
   ]
  },
  {
   "cell_type": "code",
   "execution_count": null,
   "id": "278f9ec1",
   "metadata": {},
   "outputs": [],
   "source": [
    "#Creating a function\n",
    "def usd_naira(usd):\n",
    "    total = 489 * usd\n",
    "    print(total)\n",
    "    \n",
    "usd_naira(80)\n",
    "usd_naira(1000)"
   ]
  },
  {
   "cell_type": "code",
   "execution_count": 1,
   "id": "5dd6869d",
   "metadata": {},
   "outputs": [
    {
     "name": "stdout",
     "output_type": "stream",
     "text": [
      "Your age is  26  and you are allowed to date ladies of year  20.0  or older\n",
      "Your age is  28  and you are allowed to date ladies of year  21.0  or older\n",
      "Your age is  30  and you are allowed to date ladies of year  22.0  or older\n",
      "Your age is  32  and you are allowed to date ladies of year  23.0  or older\n",
      "Your age is  34  and you are allowed to date ladies of year  24.0  or older\n"
     ]
    }
   ],
   "source": [
    "#You can't use the result of a function without the keyword RETURN\n",
    "def allow_to_date(guys_age):\n",
    "    girls_age = guys_age/2 + 7\n",
    "    return girls_age\n",
    "\n",
    "for n in range(26, 36, 2): #this select ages of guys\n",
    "    guy_1 = allow_to_date(n)\n",
    "    print(\"Your age is \",n, \" and you are allowed to date ladies of year \", guy_1, \" or older\")\n"
   ]
  },
  {
   "cell_type": "code",
   "execution_count": 1,
   "id": "507ff41d",
   "metadata": {},
   "outputs": [
    {
     "name": "stdout",
     "output_type": "stream",
     "text": [
      "Male\n",
      "Female\n",
      "Unknown\n"
     ]
    }
   ],
   "source": [
    "#Setting a default value for a function \n",
    "def gender(sex = \"Unknown\"):\n",
    "    if sex == 'm':\n",
    "        sex = \"Male\"\n",
    "    elif sex == 'f':\n",
    "        sex = \"Female\"\n",
    "    print(sex)\n",
    "\n",
    "gender('m')\n",
    "gender('f')\n",
    "gender()"
   ]
  },
  {
   "cell_type": "code",
   "execution_count": 2,
   "id": "c15887e7",
   "metadata": {},
   "outputs": [
    {
     "name": "stdout",
     "output_type": "stream",
     "text": [
      "Ade is boy Yes\n",
      "Ola went to school today\n",
      "Ade mumu boy Yes\n",
      "Sade is boy no\n"
     ]
    }
   ],
   "source": [
    "#Key argument\n",
    "def key_argument(name ='Ade', action = 'is', obj = 'boy', ans = 'Yes'):\n",
    "    print(name, action, obj, ans)\n",
    "\n",
    "key_argument()\n",
    "key_argument('Ola', 'went', 'to school', 'today')\n",
    "key_argument(action='mumu')\n",
    "key_argument(ans = 'no', name ='Sade')"
   ]
  },
  {
   "cell_type": "code",
   "execution_count": null,
   "id": "fececd7f",
   "metadata": {},
   "outputs": [],
   "source": []
  }
 ],
 "metadata": {
  "kernelspec": {
   "display_name": "Python 3",
   "language": "python",
   "name": "python3"
  },
  "language_info": {
   "codemirror_mode": {
    "name": "ipython",
    "version": 3
   },
   "file_extension": ".py",
   "mimetype": "text/x-python",
   "name": "python",
   "nbconvert_exporter": "python",
   "pygments_lexer": "ipython3",
   "version": "3.8.8"
  }
 },
 "nbformat": 4,
 "nbformat_minor": 5
}
