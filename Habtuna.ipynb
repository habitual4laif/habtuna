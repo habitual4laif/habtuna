{
 "cells": [
  {
   "cell_type": "code",
   "execution_count": 1,
   "id": "9a734757",
   "metadata": {},
   "outputs": [
    {
     "name": "stdout",
     "output_type": "stream",
     "text": [
      "we are here already. we are here already. we are here already. \n"
     ]
    }
   ],
   "source": [
    "#variables and strings\n",
    "dat = \"we are here already. \"\n",
    "p = 3\n",
    "bee = dat * p\n",
    "print(bee)"
   ]
  },
  {
   "cell_type": "code",
   "execution_count": 4,
   "id": "c388df50",
   "metadata": {},
   "outputs": [
    {
     "data": {
      "text/plain": [
       "[34, 64]"
      ]
     },
     "execution_count": 4,
     "metadata": {},
     "output_type": "execute_result"
    }
   ],
   "source": [
    "players = [34, 64, 74, 92, 16, 73]\n",
    "players[:2] #we need the first two"
   ]
  },
  {
   "cell_type": "code",
   "execution_count": 5,
   "id": "7ef32085",
   "metadata": {},
   "outputs": [
    {
     "data": {
      "text/plain": [
       "[74, 92, 16, 73]"
      ]
     },
     "execution_count": 5,
     "metadata": {},
     "output_type": "execute_result"
    }
   ],
   "source": [
    "players = [34, 64, 74, 92, 16, 73]\n",
    "players[2:] #we need the numbers after the first two"
   ]
  },
  {
   "cell_type": "code",
   "execution_count": null,
   "id": "bd479353",
   "metadata": {},
   "outputs": [],
   "source": []
  }
 ],
 "metadata": {
  "kernelspec": {
   "display_name": "Python 3",
   "language": "python",
   "name": "python3"
  },
  "language_info": {
   "codemirror_mode": {
    "name": "ipython",
    "version": 3
   },
   "file_extension": ".py",
   "mimetype": "text/x-python",
   "name": "python",
   "nbconvert_exporter": "python",
   "pygments_lexer": "ipython3",
   "version": "3.8.8"
  }
 },
 "nbformat": 4,
 "nbformat_minor": 5
}
