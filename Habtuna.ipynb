{
 "cells": [
  {
   "cell_type": "code",
   "execution_count": 1,
   "id": "9a734757",
   "metadata": {},
   "outputs": [
    {
     "name": "stdout",
     "output_type": "stream",
     "text": [
      "we are here already. we are here already. we are here already. \n"
     ]
    }
   ],
   "source": [
    "#variables and strings\n",
    "dat = \"we are here already. \"\n",
    "p = 3\n",
    "bee = dat * p\n",
    "print(bee)"
   ]
  },
  {
   "cell_type": "code",
   "execution_count": 4,
   "id": "c388df50",
   "metadata": {},
   "outputs": [
    {
     "data": {
      "text/plain": [
       "[34, 64]"
      ]
     },
     "execution_count": 4,
     "metadata": {},
     "output_type": "execute_result"
    }
   ],
   "source": [
    "players = [34, 64, 74, 92, 16, 73]\n",
    "players[:2] #we need the first two"
   ]
  },
  {
   "cell_type": "code",
   "execution_count": 5,
   "id": "7ef32085",
   "metadata": {},
   "outputs": [
    {
     "data": {
      "text/plain": [
       "[74, 92, 16, 73]"
      ]
     },
     "execution_count": 5,
     "metadata": {},
     "output_type": "execute_result"
    }
   ],
   "source": [
    "players = [34, 64, 74, 92, 16, 73]\n",
    "players[2:] #we need the numbers after the first two"
   ]
  },
  {
   "cell_type": "code",
   "execution_count": 1,
   "id": "bd479353",
   "metadata": {},
   "outputs": [
    {
     "name": "stdout",
     "output_type": "stream",
     "text": [
      "Enjoy your drink\n"
     ]
    }
   ],
   "source": [
    "name = 19\n",
    "if name < 18:\n",
    "    print(\"Drink is not for you\")\n",
    "elif name == 18:\n",
    "    print(\"You have to have celebrated your 18th\")\n",
    "else:\n",
    "    print(\"Enjoy your drink\")"
   ]
  },
  {
   "cell_type": "code",
   "execution_count": 1,
   "id": "821443c7",
   "metadata": {},
   "outputs": [
    {
     "name": "stdout",
     "output_type": "stream",
     "text": [
      "beans\n",
      "5\n",
      "rice\n",
      "4\n",
      "eba\n",
      "3\n",
      "garri\n",
      "5\n",
      "fufu\n",
      "4\n"
     ]
    }
   ],
   "source": [
    "food = ['beans', 'rice', 'eba', 'garri', 'fufu']\n",
    "\n",
    "for f in food:\n",
    "    print(f)\n",
    "    print(len(f))"
   ]
  },
  {
   "cell_type": "code",
   "execution_count": 2,
   "id": "a2290f77",
   "metadata": {},
   "outputs": [
    {
     "name": "stdout",
     "output_type": "stream",
     "text": [
      "garri\n",
      "5\n",
      "fufu\n",
      "4\n"
     ]
    }
   ],
   "source": [
    "food = ['beans', 'rice', 'eba', 'garri', 'fufu']\n",
    "\n",
    "for f in food[3:]:\n",
    "    print(f)\n",
    "    print(len(f))"
   ]
  },
  {
   "cell_type": "code",
   "execution_count": 7,
   "id": "1c1d84c7",
   "metadata": {},
   "outputs": [
    {
     "name": "stdout",
     "output_type": "stream",
     "text": [
      "['beans', 'rice', 'eba', 'garri', 'fufu', 'moi-moi']\n"
     ]
    }
   ],
   "source": [
    "#appending/adding more items to a list\n",
    "food = ['beans', 'rice', 'eba', 'garri', 'fufu']\n",
    "\n",
    "food.append('moi-moi')\n",
    "print(food)"
   ]
  },
  {
   "cell_type": "code",
   "execution_count": 5,
   "id": "5582c9d8",
   "metadata": {},
   "outputs": [
    {
     "name": "stdout",
     "output_type": "stream",
     "text": [
      "['beans', 'rice', 'eba', 'garri', 'fufu']\n",
      "['moi-moi', 'bread', 'garri', 'fufu']\n",
      "['moi-moi', 'bread', 'garri', 'moi-moi', 'bread']\n"
     ]
    }
   ],
   "source": [
    "food = ['beans', 'rice', 'eba', 'garri', 'fufu']\n",
    "\n",
    "print(food)\n",
    "food[:3] = ['moi-moi', 'bread'] #This permanently delete the items and add new ones\n",
    "print(food)\n",
    "food[3:] = ['moi-moi', 'bread']\n",
    "print(food)"
   ]
  },
  {
   "cell_type": "code",
   "execution_count": 1,
   "id": "4b7e956d",
   "metadata": {},
   "outputs": [
    {
     "name": "stdout",
     "output_type": "stream",
     "text": [
      "0\n",
      "1\n",
      "2\n",
      "3\n",
      "4\n"
     ]
    }
   ],
   "source": [
    "#The use of range()\n",
    "for x in range(5):\n",
    "    print(x)"
   ]
  },
  {
   "cell_type": "code",
   "execution_count": null,
   "id": "1eaa1e8e",
   "metadata": {},
   "outputs": [],
   "source": [
    "#\n",
    "for x in range(5, 12):\n",
    "    print(x)"
   ]
  },
  {
   "cell_type": "code",
   "execution_count": null,
   "id": "0096989b",
   "metadata": {},
   "outputs": [],
   "source": [
    "#\n",
    "for x in range(3):\n",
    "    print(\"Who's home?\")"
   ]
  },
  {
   "cell_type": "code",
   "execution_count": 2,
   "id": "10e0aeba",
   "metadata": {},
   "outputs": [
    {
     "name": "stdout",
     "output_type": "stream",
     "text": [
      "10\n",
      "13\n",
      "16\n",
      "19\n"
     ]
    }
   ],
   "source": [
    "#The first value tell it where to start from  and the next where to stop while the last determine the interval\n",
    "for x in range(10, 20, 3):\n",
    "    print(x)"
   ]
  },
  {
   "cell_type": "code",
   "execution_count": 3,
   "id": "c91d8a31",
   "metadata": {},
   "outputs": [
    {
     "name": "stdout",
     "output_type": "stream",
     "text": [
      "5\n",
      "6\n",
      "7\n",
      "8\n",
      "9\n"
     ]
    }
   ],
   "source": [
    "num = 5\n",
    "\n",
    "while num < 10:\n",
    "    print(num)\n",
    "    num += 1"
   ]
  },
  {
   "cell_type": "code",
   "execution_count": 4,
   "id": "299280c2",
   "metadata": {},
   "outputs": [
    {
     "name": "stdout",
     "output_type": "stream",
     "text": [
      "26 This is the number\n"
     ]
    }
   ],
   "source": [
    "NumberRange = 26\n",
    "\n",
    "for n in range(101):\n",
    "    if n is NumberRange:\n",
    "        print(n, 'This is the number')\n",
    "        break"
   ]
  },
  {
   "cell_type": "code",
   "execution_count": 5,
   "id": "035bb1a2",
   "metadata": {},
   "outputs": [
    {
     "name": "stdout",
     "output_type": "stream",
     "text": [
      "4 This number is divisible by 4\n",
      "8 This number is divisible by 4\n",
      "12 This number is divisible by 4\n",
      "16 This number is divisible by 4\n",
      "20 This number is divisible by 4\n",
      "24 This number is divisible by 4\n",
      "28 This number is divisible by 4\n",
      "32 This number is divisible by 4\n",
      "36 This number is divisible by 4\n",
      "40 This number is divisible by 4\n"
     ]
    }
   ],
   "source": [
    "for n in range(1, 41):\n",
    "    if n % 4 == 0:\n",
    "        print(n, 'This number is divisible by 4')"
   ]
  },
  {
   "cell_type": "code",
   "execution_count": 7,
   "id": "644b056c",
   "metadata": {},
   "outputs": [
    {
     "name": "stdout",
     "output_type": "stream",
     "text": [
      "1\n",
      "3\n",
      "6\n",
      "9\n"
     ]
    }
   ],
   "source": [
    "NumbersTaken = [2, 5, 7, 4, 8]\n",
    "\n",
    "for n in range(1, 10):\n",
    "    if n in NumbersTaken:\n",
    "        continue\n",
    "    print(n)"
   ]
  },
  {
   "cell_type": "code",
   "execution_count": null,
   "id": "278f9ec1",
   "metadata": {},
   "outputs": [],
   "source": [
    "#Creating a function\n",
    "def usd_naira(usd):\n",
    "    total = 489 * usd\n",
    "    print(total)\n",
    "    \n",
    "usd_naira(80)\n",
    "usd_naira(1000)"
   ]
  },
  {
   "cell_type": "code",
   "execution_count": 1,
   "id": "5dd6869d",
   "metadata": {},
   "outputs": [
    {
     "name": "stdout",
     "output_type": "stream",
     "text": [
      "Your age is  26  and you are allowed to date ladies of year  20.0  or older\n",
      "Your age is  28  and you are allowed to date ladies of year  21.0  or older\n",
      "Your age is  30  and you are allowed to date ladies of year  22.0  or older\n",
      "Your age is  32  and you are allowed to date ladies of year  23.0  or older\n",
      "Your age is  34  and you are allowed to date ladies of year  24.0  or older\n"
     ]
    }
   ],
   "source": [
    "#You can't use the result of a function without the keyword RETURN\n",
    "def allow_to_date(guys_age):\n",
    "    girls_age = guys_age/2 + 7\n",
    "    return girls_age\n",
    "\n",
    "for n in range(26, 36, 2): #this select ages of guys\n",
    "    guy_1 = allow_to_date(n)\n",
    "    print(\"Your age is \",n, \" and you are allowed to date ladies of year \", guy_1, \" or older\")\n"
   ]
  },
  {
   "cell_type": "code",
   "execution_count": 1,
   "id": "507ff41d",
   "metadata": {},
   "outputs": [
    {
     "name": "stdout",
     "output_type": "stream",
     "text": [
      "Male\n",
      "Female\n",
      "Unknown\n"
     ]
    }
   ],
   "source": [
    "#Setting a default value for a function \n",
    "def gender(sex = \"Unknown\"):\n",
    "    if sex == 'm':\n",
    "        sex = \"Male\"\n",
    "    elif sex == 'f':\n",
    "        sex = \"Female\"\n",
    "    print(sex)\n",
    "\n",
    "gender('m')\n",
    "gender('f')\n",
    "gender()"
   ]
  },
  {
   "cell_type": "code",
   "execution_count": 2,
   "id": "c15887e7",
   "metadata": {},
   "outputs": [
    {
     "name": "stdout",
     "output_type": "stream",
     "text": [
      "Ade is boy Yes\n",
      "Ola went to school today\n",
      "Ade mumu boy Yes\n",
      "Sade is boy no\n"
     ]
    }
   ],
   "source": [
    "#Key argument\n",
    "def key_argument(name ='Ade', action = 'is', obj = 'boy', ans = 'Yes'):\n",
    "    print(name, action, obj, ans)\n",
    "\n",
    "key_argument()\n",
    "key_argument('Ola', 'went', 'to school', 'today')\n",
    "key_argument(action='mumu')\n",
    "key_argument(ans = 'no', name ='Sade')"
   ]
  },
  {
   "cell_type": "code",
   "execution_count": 1,
   "id": "fececd7f",
   "metadata": {},
   "outputs": [
    {
     "name": "stdout",
     "output_type": "stream",
     "text": [
      "50\n",
      "113\n",
      "6250656\n"
     ]
    }
   ],
   "source": [
    "#Flexible number argument\n",
    "def addition(*anyword): #Any word after * sign can accommodate large variables\n",
    "    total = 0\n",
    "    for a in anyword:\n",
    "        total += a\n",
    "    print(total)\n",
    "    \n",
    "addition(50)\n",
    "addition(32, 44, 37)\n",
    "addition(474464, 5775858, 334)"
   ]
  },
  {
   "cell_type": "code",
   "execution_count": null,
   "id": "9f962169",
   "metadata": {},
   "outputs": [],
   "source": [
    "#Unpacking argument\n",
    "def cgpa(math, phy, chem, eng):\n",
    "    gpa = (math*0.25) + (phy*0.25) + (chem*0.25) + (eng*0.25)\n",
    "    print(gpa)\n",
    "    \n",
    "score = [76, 71, 65, 53]\n",
    "cgpa(score[0], score[1], score[2], score[3]) #Instead going this route, unpack everything with a short code\n",
    "cgpa(*score) #This is the unpacking"
   ]
  },
  {
   "cell_type": "code",
   "execution_count": 1,
   "id": "c3f2314b",
   "metadata": {},
   "outputs": [
    {
     "name": "stdout",
     "output_type": "stream",
     "text": [
      "Ola is tallest\n",
      "Ade is shortest\n",
      "Bisi is smartest\n",
      "Ada is dumbest\n"
     ]
    }
   ],
   "source": [
    "#Dictionary what has {} is called set in python\n",
    "classmates = {'Ola':' is tallest', 'Ade':' is shortest', 'Bisi':' is smartest', 'Ada':' is dumbest'} #first parameter is call key while the second parameter is call value\n",
    "\n",
    "for key, value in classmates.items(): #You can use any word or letter for 'key' and 'value'\n",
    "    print(key + value)"
   ]
  },
  {
   "cell_type": "code",
   "execution_count": 3,
   "id": "a7ed4b53",
   "metadata": {},
   "outputs": [
    {
     "ename": "ModuleNotFoundError",
     "evalue": "No module named 'another'",
     "output_type": "error",
     "traceback": [
      "\u001b[1;31m---------------------------------------------------------------------------\u001b[0m",
      "\u001b[1;31mModuleNotFoundError\u001b[0m                       Traceback (most recent call last)",
      "\u001b[1;32m<ipython-input-3-89e9615e2cd0>\u001b[0m in \u001b[0;36m<module>\u001b[1;34m\u001b[0m\n\u001b[0;32m      1\u001b[0m \u001b[1;31m#Modules\u001b[0m\u001b[1;33m\u001b[0m\u001b[1;33m\u001b[0m\u001b[1;33m\u001b[0m\u001b[0m\n\u001b[1;32m----> 2\u001b[1;33m \u001b[1;32mimport\u001b[0m \u001b[0manother\u001b[0m \u001b[1;31m#this file is available on same folder\u001b[0m\u001b[1;33m\u001b[0m\u001b[1;33m\u001b[0m\u001b[0m\n\u001b[0m\u001b[0;32m      3\u001b[0m \u001b[1;32mimport\u001b[0m \u001b[0mrandom\u001b[0m \u001b[1;31m#this file came with python\u001b[0m\u001b[1;33m\u001b[0m\u001b[1;33m\u001b[0m\u001b[0m\n\u001b[0;32m      4\u001b[0m \u001b[1;33m\u001b[0m\u001b[0m\n\u001b[0;32m      5\u001b[0m \u001b[0manother\u001b[0m\u001b[1;33m.\u001b[0m\u001b[0mbeans\u001b[0m\u001b[1;33m(\u001b[0m\u001b[1;33m)\u001b[0m\u001b[1;33m\u001b[0m\u001b[1;33m\u001b[0m\u001b[0m\n",
      "\u001b[1;31mModuleNotFoundError\u001b[0m: No module named 'another'"
     ]
    }
   ],
   "source": [
    "#Modules\n",
    "import another #this file is available on same folder\n",
    "import random #this file came with python\n",
    "\n",
    "another.beans()\n",
    "y = random.randrange(1, 200)\n",
    "print(y)"
   ]
  },
  {
   "cell_type": "code",
   "execution_count": 2,
   "id": "0307a57f",
   "metadata": {},
   "outputs": [
    {
     "ename": "HTTPError",
     "evalue": "HTTP Error 403: Forbidden",
     "output_type": "error",
     "traceback": [
      "\u001b[1;31m---------------------------------------------------------------------------\u001b[0m",
      "\u001b[1;31mHTTPError\u001b[0m                                 Traceback (most recent call last)",
      "\u001b[1;32m<ipython-input-2-b34cd638f052>\u001b[0m in \u001b[0;36m<module>\u001b[1;34m\u001b[0m\n\u001b[0;32m      8\u001b[0m     \u001b[0murllib\u001b[0m\u001b[1;33m.\u001b[0m\u001b[0mrequest\u001b[0m\u001b[1;33m.\u001b[0m\u001b[0murlretrieve\u001b[0m\u001b[1;33m(\u001b[0m\u001b[0murl\u001b[0m\u001b[1;33m,\u001b[0m \u001b[0mfullname\u001b[0m\u001b[1;33m)\u001b[0m\u001b[1;33m\u001b[0m\u001b[1;33m\u001b[0m\u001b[0m\n\u001b[0;32m      9\u001b[0m \u001b[1;33m\u001b[0m\u001b[0m\n\u001b[1;32m---> 10\u001b[1;33m \u001b[0mdownload_web_image\u001b[0m\u001b[1;33m(\u001b[0m\u001b[1;34m\"http://www.strutchannelfittings.com/assets/images/LED%201.jpg\"\u001b[0m\u001b[1;33m)\u001b[0m\u001b[1;33m\u001b[0m\u001b[1;33m\u001b[0m\u001b[0m\n\u001b[0m",
      "\u001b[1;32m<ipython-input-2-b34cd638f052>\u001b[0m in \u001b[0;36mdownload_web_image\u001b[1;34m(url)\u001b[0m\n\u001b[0;32m      6\u001b[0m     \u001b[0mname\u001b[0m \u001b[1;33m=\u001b[0m \u001b[0mrandom\u001b[0m\u001b[1;33m.\u001b[0m\u001b[0mrandrange\u001b[0m\u001b[1;33m(\u001b[0m\u001b[1;36m1\u001b[0m\u001b[1;33m,\u001b[0m \u001b[1;36m1000\u001b[0m\u001b[1;33m)\u001b[0m\u001b[1;33m\u001b[0m\u001b[1;33m\u001b[0m\u001b[0m\n\u001b[0;32m      7\u001b[0m     \u001b[0mfullname\u001b[0m \u001b[1;33m=\u001b[0m \u001b[0mstr\u001b[0m\u001b[1;33m(\u001b[0m\u001b[0mname\u001b[0m\u001b[1;33m)\u001b[0m \u001b[1;33m+\u001b[0m \u001b[1;34m'.jpg'\u001b[0m   \u001b[1;31m#To change number to string datatype, use \"str()\"\u001b[0m\u001b[1;33m\u001b[0m\u001b[1;33m\u001b[0m\u001b[0m\n\u001b[1;32m----> 8\u001b[1;33m     \u001b[0murllib\u001b[0m\u001b[1;33m.\u001b[0m\u001b[0mrequest\u001b[0m\u001b[1;33m.\u001b[0m\u001b[0murlretrieve\u001b[0m\u001b[1;33m(\u001b[0m\u001b[0murl\u001b[0m\u001b[1;33m,\u001b[0m \u001b[0mfullname\u001b[0m\u001b[1;33m)\u001b[0m\u001b[1;33m\u001b[0m\u001b[1;33m\u001b[0m\u001b[0m\n\u001b[0m\u001b[0;32m      9\u001b[0m \u001b[1;33m\u001b[0m\u001b[0m\n\u001b[0;32m     10\u001b[0m \u001b[0mdownload_web_image\u001b[0m\u001b[1;33m(\u001b[0m\u001b[1;34m\"http://www.strutchannelfittings.com/assets/images/LED%201.jpg\"\u001b[0m\u001b[1;33m)\u001b[0m\u001b[1;33m\u001b[0m\u001b[1;33m\u001b[0m\u001b[0m\n",
      "\u001b[1;32mC:\\ProgramData\\Anaconda3\\lib\\urllib\\request.py\u001b[0m in \u001b[0;36murlretrieve\u001b[1;34m(url, filename, reporthook, data)\u001b[0m\n\u001b[0;32m    245\u001b[0m     \u001b[0murl_type\u001b[0m\u001b[1;33m,\u001b[0m \u001b[0mpath\u001b[0m \u001b[1;33m=\u001b[0m \u001b[0m_splittype\u001b[0m\u001b[1;33m(\u001b[0m\u001b[0murl\u001b[0m\u001b[1;33m)\u001b[0m\u001b[1;33m\u001b[0m\u001b[1;33m\u001b[0m\u001b[0m\n\u001b[0;32m    246\u001b[0m \u001b[1;33m\u001b[0m\u001b[0m\n\u001b[1;32m--> 247\u001b[1;33m     \u001b[1;32mwith\u001b[0m \u001b[0mcontextlib\u001b[0m\u001b[1;33m.\u001b[0m\u001b[0mclosing\u001b[0m\u001b[1;33m(\u001b[0m\u001b[0murlopen\u001b[0m\u001b[1;33m(\u001b[0m\u001b[0murl\u001b[0m\u001b[1;33m,\u001b[0m \u001b[0mdata\u001b[0m\u001b[1;33m)\u001b[0m\u001b[1;33m)\u001b[0m \u001b[1;32mas\u001b[0m \u001b[0mfp\u001b[0m\u001b[1;33m:\u001b[0m\u001b[1;33m\u001b[0m\u001b[1;33m\u001b[0m\u001b[0m\n\u001b[0m\u001b[0;32m    248\u001b[0m         \u001b[0mheaders\u001b[0m \u001b[1;33m=\u001b[0m \u001b[0mfp\u001b[0m\u001b[1;33m.\u001b[0m\u001b[0minfo\u001b[0m\u001b[1;33m(\u001b[0m\u001b[1;33m)\u001b[0m\u001b[1;33m\u001b[0m\u001b[1;33m\u001b[0m\u001b[0m\n\u001b[0;32m    249\u001b[0m \u001b[1;33m\u001b[0m\u001b[0m\n",
      "\u001b[1;32mC:\\ProgramData\\Anaconda3\\lib\\urllib\\request.py\u001b[0m in \u001b[0;36murlopen\u001b[1;34m(url, data, timeout, cafile, capath, cadefault, context)\u001b[0m\n\u001b[0;32m    220\u001b[0m     \u001b[1;32melse\u001b[0m\u001b[1;33m:\u001b[0m\u001b[1;33m\u001b[0m\u001b[1;33m\u001b[0m\u001b[0m\n\u001b[0;32m    221\u001b[0m         \u001b[0mopener\u001b[0m \u001b[1;33m=\u001b[0m \u001b[0m_opener\u001b[0m\u001b[1;33m\u001b[0m\u001b[1;33m\u001b[0m\u001b[0m\n\u001b[1;32m--> 222\u001b[1;33m     \u001b[1;32mreturn\u001b[0m \u001b[0mopener\u001b[0m\u001b[1;33m.\u001b[0m\u001b[0mopen\u001b[0m\u001b[1;33m(\u001b[0m\u001b[0murl\u001b[0m\u001b[1;33m,\u001b[0m \u001b[0mdata\u001b[0m\u001b[1;33m,\u001b[0m \u001b[0mtimeout\u001b[0m\u001b[1;33m)\u001b[0m\u001b[1;33m\u001b[0m\u001b[1;33m\u001b[0m\u001b[0m\n\u001b[0m\u001b[0;32m    223\u001b[0m \u001b[1;33m\u001b[0m\u001b[0m\n\u001b[0;32m    224\u001b[0m \u001b[1;32mdef\u001b[0m \u001b[0minstall_opener\u001b[0m\u001b[1;33m(\u001b[0m\u001b[0mopener\u001b[0m\u001b[1;33m)\u001b[0m\u001b[1;33m:\u001b[0m\u001b[1;33m\u001b[0m\u001b[1;33m\u001b[0m\u001b[0m\n",
      "\u001b[1;32mC:\\ProgramData\\Anaconda3\\lib\\urllib\\request.py\u001b[0m in \u001b[0;36mopen\u001b[1;34m(self, fullurl, data, timeout)\u001b[0m\n\u001b[0;32m    529\u001b[0m         \u001b[1;32mfor\u001b[0m \u001b[0mprocessor\u001b[0m \u001b[1;32min\u001b[0m \u001b[0mself\u001b[0m\u001b[1;33m.\u001b[0m\u001b[0mprocess_response\u001b[0m\u001b[1;33m.\u001b[0m\u001b[0mget\u001b[0m\u001b[1;33m(\u001b[0m\u001b[0mprotocol\u001b[0m\u001b[1;33m,\u001b[0m \u001b[1;33m[\u001b[0m\u001b[1;33m]\u001b[0m\u001b[1;33m)\u001b[0m\u001b[1;33m:\u001b[0m\u001b[1;33m\u001b[0m\u001b[1;33m\u001b[0m\u001b[0m\n\u001b[0;32m    530\u001b[0m             \u001b[0mmeth\u001b[0m \u001b[1;33m=\u001b[0m \u001b[0mgetattr\u001b[0m\u001b[1;33m(\u001b[0m\u001b[0mprocessor\u001b[0m\u001b[1;33m,\u001b[0m \u001b[0mmeth_name\u001b[0m\u001b[1;33m)\u001b[0m\u001b[1;33m\u001b[0m\u001b[1;33m\u001b[0m\u001b[0m\n\u001b[1;32m--> 531\u001b[1;33m             \u001b[0mresponse\u001b[0m \u001b[1;33m=\u001b[0m \u001b[0mmeth\u001b[0m\u001b[1;33m(\u001b[0m\u001b[0mreq\u001b[0m\u001b[1;33m,\u001b[0m \u001b[0mresponse\u001b[0m\u001b[1;33m)\u001b[0m\u001b[1;33m\u001b[0m\u001b[1;33m\u001b[0m\u001b[0m\n\u001b[0m\u001b[0;32m    532\u001b[0m \u001b[1;33m\u001b[0m\u001b[0m\n\u001b[0;32m    533\u001b[0m         \u001b[1;32mreturn\u001b[0m \u001b[0mresponse\u001b[0m\u001b[1;33m\u001b[0m\u001b[1;33m\u001b[0m\u001b[0m\n",
      "\u001b[1;32mC:\\ProgramData\\Anaconda3\\lib\\urllib\\request.py\u001b[0m in \u001b[0;36mhttp_response\u001b[1;34m(self, request, response)\u001b[0m\n\u001b[0;32m    638\u001b[0m         \u001b[1;31m# request was successfully received, understood, and accepted.\u001b[0m\u001b[1;33m\u001b[0m\u001b[1;33m\u001b[0m\u001b[1;33m\u001b[0m\u001b[0m\n\u001b[0;32m    639\u001b[0m         \u001b[1;32mif\u001b[0m \u001b[1;32mnot\u001b[0m \u001b[1;33m(\u001b[0m\u001b[1;36m200\u001b[0m \u001b[1;33m<=\u001b[0m \u001b[0mcode\u001b[0m \u001b[1;33m<\u001b[0m \u001b[1;36m300\u001b[0m\u001b[1;33m)\u001b[0m\u001b[1;33m:\u001b[0m\u001b[1;33m\u001b[0m\u001b[1;33m\u001b[0m\u001b[0m\n\u001b[1;32m--> 640\u001b[1;33m             response = self.parent.error(\n\u001b[0m\u001b[0;32m    641\u001b[0m                 'http', request, response, code, msg, hdrs)\n\u001b[0;32m    642\u001b[0m \u001b[1;33m\u001b[0m\u001b[0m\n",
      "\u001b[1;32mC:\\ProgramData\\Anaconda3\\lib\\urllib\\request.py\u001b[0m in \u001b[0;36merror\u001b[1;34m(self, proto, *args)\u001b[0m\n\u001b[0;32m    567\u001b[0m         \u001b[1;32mif\u001b[0m \u001b[0mhttp_err\u001b[0m\u001b[1;33m:\u001b[0m\u001b[1;33m\u001b[0m\u001b[1;33m\u001b[0m\u001b[0m\n\u001b[0;32m    568\u001b[0m             \u001b[0margs\u001b[0m \u001b[1;33m=\u001b[0m \u001b[1;33m(\u001b[0m\u001b[0mdict\u001b[0m\u001b[1;33m,\u001b[0m \u001b[1;34m'default'\u001b[0m\u001b[1;33m,\u001b[0m \u001b[1;34m'http_error_default'\u001b[0m\u001b[1;33m)\u001b[0m \u001b[1;33m+\u001b[0m \u001b[0morig_args\u001b[0m\u001b[1;33m\u001b[0m\u001b[1;33m\u001b[0m\u001b[0m\n\u001b[1;32m--> 569\u001b[1;33m             \u001b[1;32mreturn\u001b[0m \u001b[0mself\u001b[0m\u001b[1;33m.\u001b[0m\u001b[0m_call_chain\u001b[0m\u001b[1;33m(\u001b[0m\u001b[1;33m*\u001b[0m\u001b[0margs\u001b[0m\u001b[1;33m)\u001b[0m\u001b[1;33m\u001b[0m\u001b[1;33m\u001b[0m\u001b[0m\n\u001b[0m\u001b[0;32m    570\u001b[0m \u001b[1;33m\u001b[0m\u001b[0m\n\u001b[0;32m    571\u001b[0m \u001b[1;31m# XXX probably also want an abstract factory that knows when it makes\u001b[0m\u001b[1;33m\u001b[0m\u001b[1;33m\u001b[0m\u001b[1;33m\u001b[0m\u001b[0m\n",
      "\u001b[1;32mC:\\ProgramData\\Anaconda3\\lib\\urllib\\request.py\u001b[0m in \u001b[0;36m_call_chain\u001b[1;34m(self, chain, kind, meth_name, *args)\u001b[0m\n\u001b[0;32m    500\u001b[0m         \u001b[1;32mfor\u001b[0m \u001b[0mhandler\u001b[0m \u001b[1;32min\u001b[0m \u001b[0mhandlers\u001b[0m\u001b[1;33m:\u001b[0m\u001b[1;33m\u001b[0m\u001b[1;33m\u001b[0m\u001b[0m\n\u001b[0;32m    501\u001b[0m             \u001b[0mfunc\u001b[0m \u001b[1;33m=\u001b[0m \u001b[0mgetattr\u001b[0m\u001b[1;33m(\u001b[0m\u001b[0mhandler\u001b[0m\u001b[1;33m,\u001b[0m \u001b[0mmeth_name\u001b[0m\u001b[1;33m)\u001b[0m\u001b[1;33m\u001b[0m\u001b[1;33m\u001b[0m\u001b[0m\n\u001b[1;32m--> 502\u001b[1;33m             \u001b[0mresult\u001b[0m \u001b[1;33m=\u001b[0m \u001b[0mfunc\u001b[0m\u001b[1;33m(\u001b[0m\u001b[1;33m*\u001b[0m\u001b[0margs\u001b[0m\u001b[1;33m)\u001b[0m\u001b[1;33m\u001b[0m\u001b[1;33m\u001b[0m\u001b[0m\n\u001b[0m\u001b[0;32m    503\u001b[0m             \u001b[1;32mif\u001b[0m \u001b[0mresult\u001b[0m \u001b[1;32mis\u001b[0m \u001b[1;32mnot\u001b[0m \u001b[1;32mNone\u001b[0m\u001b[1;33m:\u001b[0m\u001b[1;33m\u001b[0m\u001b[1;33m\u001b[0m\u001b[0m\n\u001b[0;32m    504\u001b[0m                 \u001b[1;32mreturn\u001b[0m \u001b[0mresult\u001b[0m\u001b[1;33m\u001b[0m\u001b[1;33m\u001b[0m\u001b[0m\n",
      "\u001b[1;32mC:\\ProgramData\\Anaconda3\\lib\\urllib\\request.py\u001b[0m in \u001b[0;36mhttp_error_default\u001b[1;34m(self, req, fp, code, msg, hdrs)\u001b[0m\n\u001b[0;32m    647\u001b[0m \u001b[1;32mclass\u001b[0m \u001b[0mHTTPDefaultErrorHandler\u001b[0m\u001b[1;33m(\u001b[0m\u001b[0mBaseHandler\u001b[0m\u001b[1;33m)\u001b[0m\u001b[1;33m:\u001b[0m\u001b[1;33m\u001b[0m\u001b[1;33m\u001b[0m\u001b[0m\n\u001b[0;32m    648\u001b[0m     \u001b[1;32mdef\u001b[0m \u001b[0mhttp_error_default\u001b[0m\u001b[1;33m(\u001b[0m\u001b[0mself\u001b[0m\u001b[1;33m,\u001b[0m \u001b[0mreq\u001b[0m\u001b[1;33m,\u001b[0m \u001b[0mfp\u001b[0m\u001b[1;33m,\u001b[0m \u001b[0mcode\u001b[0m\u001b[1;33m,\u001b[0m \u001b[0mmsg\u001b[0m\u001b[1;33m,\u001b[0m \u001b[0mhdrs\u001b[0m\u001b[1;33m)\u001b[0m\u001b[1;33m:\u001b[0m\u001b[1;33m\u001b[0m\u001b[1;33m\u001b[0m\u001b[0m\n\u001b[1;32m--> 649\u001b[1;33m         \u001b[1;32mraise\u001b[0m \u001b[0mHTTPError\u001b[0m\u001b[1;33m(\u001b[0m\u001b[0mreq\u001b[0m\u001b[1;33m.\u001b[0m\u001b[0mfull_url\u001b[0m\u001b[1;33m,\u001b[0m \u001b[0mcode\u001b[0m\u001b[1;33m,\u001b[0m \u001b[0mmsg\u001b[0m\u001b[1;33m,\u001b[0m \u001b[0mhdrs\u001b[0m\u001b[1;33m,\u001b[0m \u001b[0mfp\u001b[0m\u001b[1;33m)\u001b[0m\u001b[1;33m\u001b[0m\u001b[1;33m\u001b[0m\u001b[0m\n\u001b[0m\u001b[0;32m    650\u001b[0m \u001b[1;33m\u001b[0m\u001b[0m\n\u001b[0;32m    651\u001b[0m \u001b[1;32mclass\u001b[0m \u001b[0mHTTPRedirectHandler\u001b[0m\u001b[1;33m(\u001b[0m\u001b[0mBaseHandler\u001b[0m\u001b[1;33m)\u001b[0m\u001b[1;33m:\u001b[0m\u001b[1;33m\u001b[0m\u001b[1;33m\u001b[0m\u001b[0m\n",
      "\u001b[1;31mHTTPError\u001b[0m: HTTP Error 403: Forbidden"
     ]
    }
   ],
   "source": [
    "#To download image from a webpage \n",
    "import random\n",
    "import urllib.request\n",
    "\n",
    "def download_web_image(url):\n",
    "    name = random.randrange(1, 1000)\n",
    "    fullname = str(name) + '.jpg'   #To change number to string datatype, use \"str()\"\n",
    "    urllib.request.urlretrieve(url, fullname)\n",
    "    \n",
    "download_web_image(\"http://www.strutchannelfittings.com/assets/images/LED%201.jpg\")"
   ]
  },
  {
   "cell_type": "code",
   "execution_count": 1,
   "id": "8faeb322",
   "metadata": {},
   "outputs": [],
   "source": [
    "#How to write on a file\n",
    "fw = open('simple.txt', 'w') #the first string in open() name the file and the next tell it what to do. w (a keyword) means write\n",
    "fw.write('This is what I intend writing on this file\\n')\n",
    "fw.write('What do you think i should write on this next line\\n')\n",
    "fw.close() #Ensure each file is closed after writing or reading"
   ]
  },
  {
   "cell_type": "code",
   "execution_count": 2,
   "id": "7404d8c4",
   "metadata": {},
   "outputs": [
    {
     "name": "stdout",
     "output_type": "stream",
     "text": [
      "This is what I intend writing on this file\n",
      "What do you think i should write on this next line\n",
      "\n"
     ]
    }
   ],
   "source": [
    "fr = open('simple.txt', 'r') #This is to read the file created earlier\n",
    "text = fr.read()\n",
    "print(text)\n",
    "fr.close()"
   ]
  },
  {
   "cell_type": "code",
   "execution_count": null,
   "id": "5a779c3b",
   "metadata": {},
   "outputs": [],
   "source": [
    "#Download a csv file\n",
    "from urllib import request\n",
    "\n",
    "csv_url = 'https://support.spatialkey.com/wp-content/uploads/2021/02/Sacramentorealestatetransactions.csv'\n",
    "\n",
    "def download_csv(csv_url):\n",
    "    result_of_url = request.urlopen(csv_url) #This open the url of the csv file we want to download\n",
    "    csv = result_of_url.read() #This will read the data gotten we just got\n",
    "    csv_str = str(csv) #We want to be sure the data is a string\n",
    "    lines = csv_str.split(r'\\r') #We want ensure the data is not one line but break the lines \n",
    "    destination = r'data_real11001a.csv' #This is the name we give the file\n",
    "    file_name = open(destination, \"w\") #We will paste/write the data on the file\n",
    "    for line in lines:\n",
    "        file_name.write(line + \"\\n\")\n",
    "    file_name.close()\n",
    "\n",
    "download_csv(csv_url)"
   ]
  }
 ],
 "metadata": {
  "kernelspec": {
   "display_name": "Python 3",
   "language": "python",
   "name": "python3"
  },
  "language_info": {
   "codemirror_mode": {
    "name": "ipython",
    "version": 3
   },
   "file_extension": ".py",
   "mimetype": "text/x-python",
   "name": "python",
   "nbconvert_exporter": "python",
   "pygments_lexer": "ipython3",
   "version": "3.8.8"
  }
 },
 "nbformat": 4,
 "nbformat_minor": 5
}
