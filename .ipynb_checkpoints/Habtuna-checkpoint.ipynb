{
 "cells": [
  {
   "cell_type": "code",
   "execution_count": 1,
   "id": "9a734757",
   "metadata": {},
   "outputs": [
    {
     "name": "stdout",
     "output_type": "stream",
     "text": [
      "we are here already. we are here already. we are here already. \n"
     ]
    }
   ],
   "source": [
    "#variables and strings\n",
    "dat = \"we are here already. \"\n",
    "p = 3\n",
    "bee = dat * p\n",
    "print(bee)"
   ]
  },
  {
   "cell_type": "code",
   "execution_count": 4,
   "id": "c388df50",
   "metadata": {},
   "outputs": [
    {
     "data": {
      "text/plain": [
       "[34, 64]"
      ]
     },
     "execution_count": 4,
     "metadata": {},
     "output_type": "execute_result"
    }
   ],
   "source": [
    "players = [34, 64, 74, 92, 16, 73]\n",
    "players[:2] #we need the first two"
   ]
  },
  {
   "cell_type": "code",
   "execution_count": 5,
   "id": "7ef32085",
   "metadata": {},
   "outputs": [
    {
     "data": {
      "text/plain": [
       "[74, 92, 16, 73]"
      ]
     },
     "execution_count": 5,
     "metadata": {},
     "output_type": "execute_result"
    }
   ],
   "source": [
    "players = [34, 64, 74, 92, 16, 73]\n",
    "players[2:] #we need the numbers after the first two"
   ]
  },
  {
   "cell_type": "code",
   "execution_count": 1,
   "id": "bd479353",
   "metadata": {},
   "outputs": [
    {
     "name": "stdout",
     "output_type": "stream",
     "text": [
      "Enjoy your drink\n"
     ]
    }
   ],
   "source": [
    "name = 19\n",
    "if name < 18:\n",
    "    print(\"Drink is not for you\")\n",
    "elif name == 18:\n",
    "    print(\"You have to have celebrated your 18th\")\n",
    "else:\n",
    "    print(\"Enjoy your drink\")"
   ]
  },
  {
   "cell_type": "code",
   "execution_count": 1,
   "id": "821443c7",
   "metadata": {},
   "outputs": [
    {
     "name": "stdout",
     "output_type": "stream",
     "text": [
      "beans\n",
      "5\n",
      "rice\n",
      "4\n",
      "eba\n",
      "3\n",
      "garri\n",
      "5\n",
      "fufu\n",
      "4\n"
     ]
    }
   ],
   "source": [
    "food = ['beans', 'rice', 'eba', 'garri', 'fufu']\n",
    "\n",
    "for f in food:\n",
    "    print(f)\n",
    "    print(len(f))"
   ]
  },
  {
   "cell_type": "code",
   "execution_count": 2,
   "id": "a2290f77",
   "metadata": {},
   "outputs": [
    {
     "name": "stdout",
     "output_type": "stream",
     "text": [
      "garri\n",
      "5\n",
      "fufu\n",
      "4\n"
     ]
    }
   ],
   "source": [
    "food = ['beans', 'rice', 'eba', 'garri', 'fufu']\n",
    "\n",
    "for f in food[3:]:\n",
    "    print(f)\n",
    "    print(len(f))"
   ]
  },
  {
   "cell_type": "code",
   "execution_count": 6,
   "id": "1c1d84c7",
   "metadata": {},
   "outputs": [
    {
     "ename": "AttributeError",
     "evalue": "'str' object has no attribute 'append'",
     "output_type": "error",
     "traceback": [
      "\u001b[1;31m---------------------------------------------------------------------------\u001b[0m",
      "\u001b[1;31mAttributeError\u001b[0m                            Traceback (most recent call last)",
      "\u001b[1;32m<ipython-input-6-cb8366ba883e>\u001b[0m in \u001b[0;36m<module>\u001b[1;34m\u001b[0m\n\u001b[0;32m      2\u001b[0m \u001b[0mfood\u001b[0m \u001b[1;33m=\u001b[0m \u001b[1;33m[\u001b[0m\u001b[1;34m'beans'\u001b[0m\u001b[1;33m,\u001b[0m \u001b[1;34m'rice'\u001b[0m\u001b[1;33m,\u001b[0m \u001b[1;34m'eba'\u001b[0m\u001b[1;33m,\u001b[0m \u001b[1;34m'garri'\u001b[0m\u001b[1;33m,\u001b[0m \u001b[1;34m'fufu'\u001b[0m\u001b[1;33m]\u001b[0m\u001b[1;33m\u001b[0m\u001b[1;33m\u001b[0m\u001b[0m\n\u001b[0;32m      3\u001b[0m \u001b[1;33m\u001b[0m\u001b[0m\n\u001b[1;32m----> 4\u001b[1;33m \u001b[0mfood\u001b[0m\u001b[1;33m[\u001b[0m\u001b[1;36m1\u001b[0m\u001b[1;33m]\u001b[0m\u001b[1;33m.\u001b[0m\u001b[0mappend\u001b[0m\u001b[1;33m(\u001b[0m\u001b[1;34m'moi-moi'\u001b[0m\u001b[1;33m)\u001b[0m\u001b[1;33m\u001b[0m\u001b[1;33m\u001b[0m\u001b[0m\n\u001b[0m\u001b[0;32m      5\u001b[0m \u001b[0mprint\u001b[0m\u001b[1;33m(\u001b[0m\u001b[0mfood\u001b[0m\u001b[1;33m)\u001b[0m\u001b[1;33m\u001b[0m\u001b[1;33m\u001b[0m\u001b[0m\n",
      "\u001b[1;31mAttributeError\u001b[0m: 'str' object has no attribute 'append'"
     ]
    }
   ],
   "source": [
    "#appending/adding more items to a list\n",
    "food = ['beans', 'rice', 'eba', 'garri', 'fufu']\n",
    "\n",
    "food.append('moi-moi')\n",
    "print(food)"
   ]
  },
  {
   "cell_type": "code",
   "execution_count": 5,
   "id": "020ad665",
   "metadata": {},
   "outputs": [
    {
     "name": "stdout",
     "output_type": "stream",
     "text": [
      "['beans', 'rice', 'eba', 'garri', 'fufu']\n",
      "['moi-moi', 'bread', 'garri', 'fufu']\n",
      "['moi-moi', 'bread', 'garri', 'moi-moi', 'bread']\n"
     ]
    }
   ],
   "source": [
    "food = ['beans', 'rice', 'eba', 'garri', 'fufu']\n",
    "\n",
    "print(food)\n",
    "food[:3] = ['moi-moi', 'bread']\n",
    "print(food)\n",
    "food[3:] = ['moi-moi', 'bread']\n",
    "print(food)"
   ]
  },
  {
   "cell_type": "code",
   "execution_count": null,
   "id": "b6f048d3",
   "metadata": {},
   "outputs": [],
   "source": []
  }
 ],
 "metadata": {
  "kernelspec": {
   "display_name": "Python 3",
   "language": "python",
   "name": "python3"
  },
  "language_info": {
   "codemirror_mode": {
    "name": "ipython",
    "version": 3
   },
   "file_extension": ".py",
   "mimetype": "text/x-python",
   "name": "python",
   "nbconvert_exporter": "python",
   "pygments_lexer": "ipython3",
   "version": "3.8.8"
  }
 },
 "nbformat": 4,
 "nbformat_minor": 5
}
